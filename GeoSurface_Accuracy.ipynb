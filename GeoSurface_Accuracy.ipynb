{
 "cells": [
  {
   "cell_type": "markdown",
   "metadata": {},
   "source": [
    "# Geological Surface Accuracy\n"
   ]
  },
  {
   "cell_type": "markdown",
   "metadata": {},
   "source": [
    "# 0.1 Carica il workspace\n",
    "\n",
    "eseguire (play) la cella \"CARICA SPAZIO DI LAVORO\" solo all'apertura del notebook (altrimenti si ricarica lo spazio di lavoro di default cancellando le modifiche):\n",
    "- verrà caricato l'ambiente di lavoro e la cartella \"cartella_files\" dove andranno messi i file GOCAD delle superfici che costituiscono il modello 3D (.ts) e gli shape file che contengono le tracce delle sezioni sismiche\n",
    "  e e i punti relativi ai pozzi "
   ]
  },
  {
   "cell_type": "code",
   "execution_count": null,
   "metadata": {},
   "outputs": [],
   "source": [
    "# ### CARICA SPAZIO DI LAVORO\n",
    "\n",
    "import os\n",
    "import shutil\n",
    "\n",
    "# Percorso base\n",
    "base_path = '/content'\n",
    "repo_path = os.path.join(base_path, 'GeoSurface_Accuracy')\n",
    "\n",
    "# Funzione per pulire completamente la directory\n",
    "def clean_repo_directory():\n",
    "    try:\n",
    "        # Rimuovi la directory se esiste\n",
    "        if os.path.exists(repo_path):\n",
    "            shutil.rmtree(repo_path)\n",
    "            print(f\"Directory {repo_path} rimossa\")\n",
    "    except Exception as e:\n",
    "        print(f\"Errore nella rimozione della directory: {e}\")\n",
    "\n",
    "# Pulisci la directory\n",
    "clean_repo_directory()\n",
    "\n",
    "# Cambia nella directory base\n",
    "os.chdir(base_path)\n",
    "\n",
    "# Clona il repository\n",
    "!git clone https://github.com/BaterHub/GeoSurface_Accuracy.git\n",
    "\n",
    "# Cambia nella directory del repository\n",
    "%cd GeoSurface_Accuracy"
   ]
  },
  {
   "cell_type": "markdown",
   "metadata": {},
   "source": [
    "# 0.2 Carica i file nella cartella \"cartella_files\"\n",
    "Trascinare i file* del pacchetto costituente il modello 3D nella cartella \"working_files_folder\"\n",
    "\n",
    "*NB andranno caricati i seguenti file:\n",
    "- horizons.ts (deve contenere tutte le geometrie delle superfici)\n",
    "- shapefile delle tracce di sezioni geologiche e linee sismiche utilizzate per la costruzione della superficie\n"
   ]
  },
  {
   "cell_type": "markdown",
   "metadata": {},
   "source": [
    "# 0.3 Eseguire lo script\n",
    "\n",
    "- Posizionarsi nella cella \"LANCIA LO SCRIPT\" e eseguire il RUN con \"ctrl + F10\" oppure dal menù \"Runtime > Run cell and below/Esegui questa cella e quelle sottostanti\"\n",
    "- Al termine del RUN verranno generati gli output e un log_file all'interno della working_files_folder."
   ]
  },
  {
   "cell_type": "markdown",
   "metadata": {},
   "source": [
    "# 1. Importa librerie e funzioni"
   ]
  },
  {
   "cell_type": "code",
   "execution_count": 12,
   "metadata": {},
   "outputs": [],
   "source": [
    "# ### LANCIA LO SCRIPT\n",
    "\n",
    "## Importa librerie necessarie\n",
    "import pandas as pd\n",
    "import geopandas as gpd\n",
    "import numpy as np\n",
    "import matplotlib.pyplot as plt\n",
    "from matplotlib.colors import LinearSegmentedColormap\n",
    "from pyproj import Proj, transform\n",
    "from scipy.spatial import cKDTree\n",
    "from scipy.interpolate import griddata\n",
    "from sklearn.preprocessing import MinMaxScaler\n",
    "import os\n",
    "import re\n",
    "from pathlib import Path\n",
    "\n",
    "#############################################################################################\n",
    "## Importa funzioni\n",
    "import importlib # modulo per il reload delle funzioni\n",
    "\n",
    "# Reimporta i moduli originali\n",
    "import functions_utils\n",
    "\n",
    "# Ricarica forzata di ciascun modulo\n",
    "importlib.reload(functions_utils)\n",
    "\n",
    "# Reimporta le funzioni dai moduli ricaricati\n",
    "from functions_utils import *\n",
    "#############################################################################################\n",
    "\n",
    "# Percorso cartella\n",
    "folder_name = \"working_files_folder\"\n",
    "input_dir = os.path.abspath(folder_name)\n",
    "output_dir = \"output_results\""
   ]
  },
  {
   "cell_type": "code",
   "execution_count": 13,
   "metadata": {},
   "outputs": [],
   "source": [
    "# ### Shapefile di pozzi, linee, mappe\n",
    "borehole_file = \"pozzi_idrocarburi.shp\"\n",
    "section_file = \"\"\n",
    "map_file = \"\""
   ]
  },
  {
   "cell_type": "markdown",
   "metadata": {},
   "source": [
    "## 1.1 Specifiche file"
   ]
  },
  {
   "cell_type": "code",
   "execution_count": 14,
   "metadata": {},
   "outputs": [
    {
     "name": "stdout",
     "output_type": "stream",
     "text": [
      "Numero di superfici lette: 9\n"
     ]
    },
    {
     "ename": "ImportError",
     "evalue": "the 'read_file' function requires the 'fiona' package, but it is not installed or does not import correctly.\nImporting fiona resulted in: DLL load failed while importing ogrext: Impossibile trovare il modulo specificato.",
     "output_type": "error",
     "traceback": [
      "\u001b[1;31m---------------------------------------------------------------------------\u001b[0m",
      "\u001b[1;31mImportError\u001b[0m                               Traceback (most recent call last)",
      "Cell \u001b[1;32mIn[14], line 12\u001b[0m\n\u001b[0;32m      9\u001b[0m map_shp \u001b[38;5;241m=\u001b[39m os\u001b[38;5;241m.\u001b[39mpath\u001b[38;5;241m.\u001b[39mjoin(folder_name, map_file)\n\u001b[0;32m     11\u001b[0m \u001b[38;5;66;03m# Esegui l'analisi\u001b[39;00m\n\u001b[1;32m---> 12\u001b[0m \u001b[43mmain\u001b[49m\u001b[43m(\u001b[49m\n\u001b[0;32m     13\u001b[0m \u001b[43m    \u001b[49m\u001b[43minput_dir\u001b[49m\u001b[38;5;241;43m=\u001b[39;49m\u001b[43minput_dir\u001b[49m\u001b[43m,\u001b[49m\n\u001b[0;32m     14\u001b[0m \u001b[43m    \u001b[49m\u001b[43moutput_dir\u001b[49m\u001b[38;5;241;43m=\u001b[39;49m\u001b[43moutput_dir\u001b[49m\u001b[43m,\u001b[49m\n\u001b[0;32m     15\u001b[0m \u001b[43m    \u001b[49m\u001b[43mgrid_spacing\u001b[49m\u001b[38;5;241;43m=\u001b[39;49m\u001b[38;5;241;43m500\u001b[39;49m\u001b[43m,\u001b[49m\u001b[43m  \u001b[49m\u001b[38;5;66;43;03m# Spaziatura della griglia in metri\u001b[39;49;00m\n\u001b[0;32m     16\u001b[0m \u001b[43m    \u001b[49m\u001b[43mborehole_shp\u001b[49m\u001b[38;5;241;43m=\u001b[39;49m\u001b[43mborehole_shp\u001b[49m\u001b[43m,\u001b[49m\n\u001b[0;32m     17\u001b[0m \u001b[43m    \u001b[49m\u001b[43msection_shp\u001b[49m\u001b[38;5;241;43m=\u001b[39;49m\u001b[43msection_shp\u001b[49m\u001b[43m,\u001b[49m\n\u001b[0;32m     18\u001b[0m \u001b[43m    \u001b[49m\u001b[43mmap_shp\u001b[49m\u001b[38;5;241;43m=\u001b[39;49m\u001b[43mmap_shp\u001b[49m\n\u001b[0;32m     19\u001b[0m \u001b[43m\u001b[49m\u001b[43m)\u001b[49m\n",
      "File \u001b[1;32mc:\\Users\\patrizio.petricca\\OneDrive - ISPRA\\Desktop\\CARG\\CARG_3D\\Automazioni\\github\\GeoSurface_Accuracy\\functions_utils.py:189\u001b[0m, in \u001b[0;36mmain\u001b[1;34m(input_dir, output_dir, grid_spacing, borehole_shp, section_shp, map_shp)\u001b[0m\n\u001b[0;32m    187\u001b[0m \u001b[38;5;66;03m# Carica shapefile dei borehole se specificato\u001b[39;00m\n\u001b[0;32m    188\u001b[0m \u001b[38;5;28;01mif\u001b[39;00m borehole_shp \u001b[38;5;129;01mand\u001b[39;00m os\u001b[38;5;241m.\u001b[39mpath\u001b[38;5;241m.\u001b[39mexists(borehole_shp):\n\u001b[1;32m--> 189\u001b[0m     control_points[\u001b[38;5;124m'\u001b[39m\u001b[38;5;124mborehole\u001b[39m\u001b[38;5;124m'\u001b[39m] \u001b[38;5;241m=\u001b[39m \u001b[43mread_control_shapefile\u001b[49m\u001b[43m(\u001b[49m\u001b[43mborehole_shp\u001b[49m\u001b[43m)\u001b[49m\n\u001b[0;32m    190\u001b[0m     \u001b[38;5;28mprint\u001b[39m(\u001b[38;5;124mf\u001b[39m\u001b[38;5;124m\"\u001b[39m\u001b[38;5;124mPozzi (boreholes) caricati: \u001b[39m\u001b[38;5;132;01m{\u001b[39;00m\u001b[38;5;28mlen\u001b[39m(control_points[\u001b[38;5;124m'\u001b[39m\u001b[38;5;124mborehole\u001b[39m\u001b[38;5;124m'\u001b[39m])\u001b[38;5;132;01m}\u001b[39;00m\u001b[38;5;124m\"\u001b[39m)\n\u001b[0;32m    192\u001b[0m \u001b[38;5;66;03m# Carica shapefile delle sezioni se specificato\u001b[39;00m\n",
      "File \u001b[1;32mc:\\Users\\patrizio.petricca\\OneDrive - ISPRA\\Desktop\\CARG\\CARG_3D\\Automazioni\\github\\GeoSurface_Accuracy\\functions_utils.py:97\u001b[0m, in \u001b[0;36mread_control_shapefile\u001b[1;34m(file_path, z_field, type_field)\u001b[0m\n\u001b[0;32m     79\u001b[0m \u001b[38;5;28;01mdef\u001b[39;00m \u001b[38;5;21mread_control_shapefile\u001b[39m(file_path, z_field\u001b[38;5;241m=\u001b[39m\u001b[38;5;28;01mNone\u001b[39;00m, type_field\u001b[38;5;241m=\u001b[39m\u001b[38;5;28;01mNone\u001b[39;00m):\n\u001b[0;32m     80\u001b[0m     \u001b[38;5;124;03m\"\"\"\u001b[39;00m\n\u001b[0;32m     81\u001b[0m \u001b[38;5;124;03m    Legge uno shapefile di punti di controllo e restituisce un GeoDataFrame.\u001b[39;00m\n\u001b[0;32m     82\u001b[0m \u001b[38;5;124;03m    \u001b[39;00m\n\u001b[1;32m   (...)\u001b[0m\n\u001b[0;32m     95\u001b[0m \u001b[38;5;124;03m        GeoDataFrame con i punti e le proprietà\u001b[39;00m\n\u001b[0;32m     96\u001b[0m \u001b[38;5;124;03m    \"\"\"\u001b[39;00m\n\u001b[1;32m---> 97\u001b[0m     gdf \u001b[38;5;241m=\u001b[39m \u001b[43mgpd\u001b[49m\u001b[38;5;241;43m.\u001b[39;49m\u001b[43mread_file\u001b[49m\u001b[43m(\u001b[49m\u001b[43mfile_path\u001b[49m\u001b[43m)\u001b[49m\n\u001b[0;32m     99\u001b[0m     \u001b[38;5;66;03m# Verifica che ci siano geometrie di punti\u001b[39;00m\n\u001b[0;32m    100\u001b[0m     \u001b[38;5;28;01mif\u001b[39;00m \u001b[38;5;129;01mnot\u001b[39;00m \u001b[38;5;28mall\u001b[39m(gdf\u001b[38;5;241m.\u001b[39mgeometry\u001b[38;5;241m.\u001b[39mtype \u001b[38;5;241m==\u001b[39m \u001b[38;5;124m'\u001b[39m\u001b[38;5;124mPoint\u001b[39m\u001b[38;5;124m'\u001b[39m):\n",
      "File \u001b[1;32mc:\\ProgramData\\anaconda3\\envs\\work39\\lib\\site-packages\\geopandas\\io\\file.py:127\u001b[0m, in \u001b[0;36m_read_file\u001b[1;34m(filename, bbox, mask, rows, **kwargs)\u001b[0m\n\u001b[0;32m     66\u001b[0m \u001b[38;5;28;01mdef\u001b[39;00m \u001b[38;5;21m_read_file\u001b[39m(filename, bbox\u001b[38;5;241m=\u001b[39m\u001b[38;5;28;01mNone\u001b[39;00m, mask\u001b[38;5;241m=\u001b[39m\u001b[38;5;28;01mNone\u001b[39;00m, rows\u001b[38;5;241m=\u001b[39m\u001b[38;5;28;01mNone\u001b[39;00m, \u001b[38;5;241m*\u001b[39m\u001b[38;5;241m*\u001b[39mkwargs):\n\u001b[0;32m     67\u001b[0m     \u001b[38;5;124;03m\"\"\"\u001b[39;00m\n\u001b[0;32m     68\u001b[0m \u001b[38;5;124;03m    Returns a GeoDataFrame from a file or URL.\u001b[39;00m\n\u001b[0;32m     69\u001b[0m \n\u001b[1;32m   (...)\u001b[0m\n\u001b[0;32m    125\u001b[0m \u001b[38;5;124;03m    by using the encoding keyword parameter, e.g. ``encoding='utf-8'``.\u001b[39;00m\n\u001b[0;32m    126\u001b[0m \u001b[38;5;124;03m    \"\"\"\u001b[39;00m\n\u001b[1;32m--> 127\u001b[0m     \u001b[43m_check_fiona\u001b[49m\u001b[43m(\u001b[49m\u001b[38;5;124;43m\"\u001b[39;49m\u001b[38;5;124;43m'\u001b[39;49m\u001b[38;5;124;43mread_file\u001b[39;49m\u001b[38;5;124;43m'\u001b[39;49m\u001b[38;5;124;43m function\u001b[39;49m\u001b[38;5;124;43m\"\u001b[39;49m\u001b[43m)\u001b[49m\n\u001b[0;32m    128\u001b[0m     \u001b[38;5;28;01mif\u001b[39;00m _is_url(filename):\n\u001b[0;32m    129\u001b[0m         req \u001b[38;5;241m=\u001b[39m _urlopen(filename)\n",
      "File \u001b[1;32mc:\\ProgramData\\anaconda3\\envs\\work39\\lib\\site-packages\\geopandas\\io\\file.py:42\u001b[0m, in \u001b[0;36m_check_fiona\u001b[1;34m(func)\u001b[0m\n\u001b[0;32m     40\u001b[0m \u001b[38;5;28;01mdef\u001b[39;00m \u001b[38;5;21m_check_fiona\u001b[39m(func):\n\u001b[0;32m     41\u001b[0m     \u001b[38;5;28;01mif\u001b[39;00m fiona \u001b[38;5;129;01mis\u001b[39;00m \u001b[38;5;28;01mNone\u001b[39;00m:\n\u001b[1;32m---> 42\u001b[0m         \u001b[38;5;28;01mraise\u001b[39;00m \u001b[38;5;167;01mImportError\u001b[39;00m(\n\u001b[0;32m     43\u001b[0m             \u001b[38;5;124mf\u001b[39m\u001b[38;5;124m\"\u001b[39m\u001b[38;5;124mthe \u001b[39m\u001b[38;5;132;01m{\u001b[39;00mfunc\u001b[38;5;132;01m}\u001b[39;00m\u001b[38;5;124m requires the \u001b[39m\u001b[38;5;124m'\u001b[39m\u001b[38;5;124mfiona\u001b[39m\u001b[38;5;124m'\u001b[39m\u001b[38;5;124m package, but it is not installed or does \u001b[39m\u001b[38;5;124m\"\u001b[39m\n\u001b[0;32m     44\u001b[0m             \u001b[38;5;124mf\u001b[39m\u001b[38;5;124m\"\u001b[39m\u001b[38;5;124mnot import correctly.\u001b[39m\u001b[38;5;130;01m\\n\u001b[39;00m\u001b[38;5;124mImporting fiona resulted in: \u001b[39m\u001b[38;5;132;01m{\u001b[39;00mfiona_import_error\u001b[38;5;132;01m}\u001b[39;00m\u001b[38;5;124m\"\u001b[39m\n\u001b[0;32m     45\u001b[0m         )\n",
      "\u001b[1;31mImportError\u001b[0m: the 'read_file' function requires the 'fiona' package, but it is not installed or does not import correctly.\nImporting fiona resulted in: DLL load failed while importing ogrext: Impossibile trovare il modulo specificato."
     ]
    }
   ],
   "source": [
    "if __name__ == \"__main__\":\n",
    "    # Definisci le directory di input e output\n",
    "    input_dir = input_dir  # Directory contenente i file GOCAD .ts\n",
    "    output_dir = output_dir  # Directory per i risultati\n",
    "    \n",
    "    # Definisci i percorsi agli shapefile di controllo\n",
    "    borehole_shp = os.path.join(folder_name, borehole_file)\n",
    "    section_shp = os.path.join(folder_name, section_file)\n",
    "    map_shp = os.path.join(folder_name, map_file)\n",
    "    \n",
    "    # Esegui l'analisi\n",
    "    main(\n",
    "        input_dir=input_dir,\n",
    "        output_dir=output_dir,\n",
    "        grid_spacing=500,  # Spaziatura della griglia in metri\n",
    "        borehole_shp=borehole_shp,\n",
    "        section_shp=section_shp,\n",
    "        map_shp=map_shp\n",
    "    )"
   ]
  }
 ],
 "metadata": {
  "kernelspec": {
   "display_name": "work39",
   "language": "python",
   "name": "python3"
  },
  "language_info": {
   "codemirror_mode": {
    "name": "ipython",
    "version": 3
   },
   "file_extension": ".py",
   "mimetype": "text/x-python",
   "name": "python",
   "nbconvert_exporter": "python",
   "pygments_lexer": "ipython3",
   "version": "3.9.12"
  }
 },
 "nbformat": 4,
 "nbformat_minor": 2
}
