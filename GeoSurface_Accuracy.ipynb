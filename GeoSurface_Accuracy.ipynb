{
 "cells": [
  {
   "cell_type": "markdown",
   "metadata": {},
   "source": [
    "# Geological Surface Accuracy\n"
   ]
  },
  {
   "cell_type": "markdown",
   "metadata": {},
   "source": [
    "# 0.1 Carica il workspace\n",
    "\n",
    "eseguire (play) la cella \"CARICA SPAZIO DI LAVORO\" solo all'apertura del notebook (altrimenti si ricarica lo spazio di lavoro di default cancellando le modifiche):\n",
    "- verrà caricato l'ambiente di lavoro e la cartella \"cartella_files\" dove andranno messi i file GOCAD delle superfici che costituiscono il modello 3D (.ts) e gli shape file che contengono le tracce delle sezioni sismiche\n",
    "  e e i punti relativi ai pozzi "
   ]
  },
  {
   "cell_type": "code",
   "execution_count": null,
   "metadata": {},
   "outputs": [],
   "source": [
    "# ### CARICA SPAZIO DI LAVORO\n",
    "\n",
    "import os\n",
    "import shutil\n",
    "\n",
    "# Percorso base\n",
    "base_path = '/content'\n",
    "repo_path = os.path.join(base_path, 'GeoSurface_Accuracy')\n",
    "\n",
    "# Funzione per pulire completamente la directory\n",
    "def clean_repo_directory():\n",
    "    try:\n",
    "        # Rimuovi la directory se esiste\n",
    "        if os.path.exists(repo_path):\n",
    "            shutil.rmtree(repo_path)\n",
    "            print(f\"Directory {repo_path} rimossa\")\n",
    "    except Exception as e:\n",
    "        print(f\"Errore nella rimozione della directory: {e}\")\n",
    "\n",
    "# Pulisci la directory\n",
    "clean_repo_directory()\n",
    "\n",
    "# Cambia nella directory base\n",
    "os.chdir(base_path)\n",
    "\n",
    "# Clona il repository\n",
    "!git clone https://github.com/BaterHub/GeoSurface_Accuracy.git\n",
    "\n",
    "# Cambia nella directory del repository\n",
    "%cd GeoSurface_Accuracy"
   ]
  },
  {
   "cell_type": "markdown",
   "metadata": {},
   "source": [
    "# 0.2 Carica i file nella cartella \"cartella_files\"\n",
    "Trascinare i file* del pacchetto costituente il modello 3D nella cartella \"working_files_folder\"\n",
    "\n",
    "*NB andranno caricati i seguenti file:\n",
    "- horizons.ts (deve contenere tutte le geometrie delle superfici)\n",
    "- shapefile delle tracce di sezioni geologiche e linee sismiche utilizzate per la costruzione della superficie\n"
   ]
  },
  {
   "cell_type": "markdown",
   "metadata": {},
   "source": [
    "# 0.3 Eseguire lo script\n",
    "\n",
    "- Posizionarsi nella cella \"LANCIA LO SCRIPT\" e eseguire il RUN con \"ctrl + F10\" oppure dal menù \"Runtime > Run cell and below/Esegui questa cella e quelle sottostanti\"\n",
    "- Al termine del RUN verranno generati gli output e un log_file all'interno della working_files_folder."
   ]
  },
  {
   "cell_type": "markdown",
   "metadata": {},
   "source": [
    "# 1. Importa librerie e funzioni"
   ]
  },
  {
   "cell_type": "code",
   "execution_count": null,
   "metadata": {},
   "outputs": [],
   "source": [
    "# ### LANCIA LO SCRIPT\n",
    "\n",
    "## Importa librerie necessarie\n",
    "import pandas as pd\n",
    "import geopandas as gpd\n",
    "import numpy as np\n",
    "import matplotlib.pyplot as plt\n",
    "from matplotlib.colors import LinearSegmentedColormap\n",
    "from pyproj import Proj, transform\n",
    "from scipy.spatial import cKDTree\n",
    "from scipy.interpolate import griddata\n",
    "from sklearn.preprocessing import MinMaxScaler\n",
    "import os\n",
    "import re\n",
    "from pathlib import Path\n",
    "\n",
    "#############################################################################################\n",
    "## Importa funzioni\n",
    "import importlib # modulo per il reload delle funzioni\n",
    "\n",
    "# Reimporta i moduli originali\n",
    "import functions_utils\n",
    "\n",
    "# Ricarica forzata di ciascun modulo\n",
    "importlib.reload(functions_utils)\n",
    "\n",
    "# Reimporta le funzioni dai moduli ricaricati\n",
    "from functions_utils import *\n",
    "#############################################################################################\n",
    "\n",
    "# Percorso cartella\n",
    "folder_name = \"working_files_folder\"\n",
    "input_dir = os.path.abspath(folder_name)\n",
    "output_dir = \"output_results\""
   ]
  },
  {
   "cell_type": "code",
   "execution_count": null,
   "metadata": {},
   "outputs": [],
   "source": [
    "# ### Shapefile di pozzi, linee, mappe\n",
    "borehole_file = \"pozzi_idrocarburi.shp\"\n",
    "section_file = \"linee_sismiche.shp\"\n",
    "map_file = \"\""
   ]
  },
  {
   "cell_type": "markdown",
   "metadata": {},
   "source": [
    "## 1.1 Specifiche file"
   ]
  },
  {
   "cell_type": "code",
   "execution_count": null,
   "metadata": {},
   "outputs": [],
   "source": [
    "if __name__ == \"__main__\":\n",
    "    # Definisci le directory di input e output\n",
    "    input_dir = input_dir  # Directory contenente i file GOCAD .ts\n",
    "    output_dir = output_dir  # Directory per i risultati\n",
    "    \n",
    "    # Definisci i percorsi agli shapefile di controllo\n",
    "    borehole_shp = os.path.abspath(borehole_file)\n",
    "    section_shp = os.path.abspath(section_file)\n",
    "    map_shp = os.path.abspath(map_file)\n",
    "    \n",
    "    # Esegui l'analisi\n",
    "    main(\n",
    "        input_dir=input_dir,\n",
    "        output_dir=output_dir,\n",
    "        grid_spacing=500,  # Spaziatura della griglia in metri\n",
    "        borehole_shp=borehole_shp,\n",
    "        section_shp=section_shp,\n",
    "        map_shp=map_shp\n",
    "    )"
   ]
  }
 ],
 "metadata": {
  "kernelspec": {
   "display_name": "work39",
   "language": "python",
   "name": "python3"
  },
  "language_info": {
   "codemirror_mode": {
    "name": "ipython",
    "version": 3
   },
   "file_extension": ".py",
   "mimetype": "text/x-python",
   "name": "python",
   "nbconvert_exporter": "python",
   "pygments_lexer": "ipython3",
   "version": "3.9.12"
  }
 },
 "nbformat": 4,
 "nbformat_minor": 2
}
